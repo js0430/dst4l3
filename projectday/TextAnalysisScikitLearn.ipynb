{
 "metadata": {
  "name": "",
  "signature": "sha256:966996af7832ac397f3a6a2f803434e0313689e3d343f22c69a7f67f4be607b0"
 },
 "nbformat": 3,
 "nbformat_minor": 0,
 "worksheets": [
  {
   "cells": [
    {
     "cell_type": "code",
     "collapsed": false,
     "input": [
      "%matplotlib inline\n",
      "import numpy as np\n",
      "import matplotlib.pyplot as plt\n",
      "import pandas as pd\n",
      "import seaborn as sns\n",
      "pd.set_option('display.width', 500)\n",
      "pd.set_option('display.max_columns', 100)"
     ],
     "language": "python",
     "metadata": {},
     "outputs": [],
     "prompt_number": 1
    },
    {
     "cell_type": "code",
     "collapsed": false,
     "input": [
      "import sklearn"
     ],
     "language": "python",
     "metadata": {},
     "outputs": [],
     "prompt_number": 3
    },
    {
     "cell_type": "code",
     "collapsed": false,
     "input": [
      "!ls *.txt"
     ],
     "language": "python",
     "metadata": {},
     "outputs": [
      {
       "output_type": "stream",
       "stream": "stdout",
       "text": [
        "Genesis.txt              kinglear.txt             othello.txt\r\n",
        "asyoulikeit.txt          kingrichard3.txt         romeojuliet.txt\r\n",
        "coriolanus.txt           macbeth.txt              tamingshrew.txt\r\n",
        "english.stop.txt         measureformeasure.txt    titusandronicus.txt\r\n",
        "hamlet.txt               merchantofvenice.txt     twelfthnight.txt\r\n",
        "juliuscaesar.txt         midsummersnightdream.txt\r\n"
       ]
      }
     ],
     "prompt_number": 4
    },
    {
     "cell_type": "code",
     "collapsed": false,
     "input": [
      "plays=[\"othello.txt\", \"asyoulikeit.txt\", \\\n",
      "       \"kinglear.txt\", \"kingrichard3.txt\", \"romeojuliet.txt\", \\\n",
      "       \"coriolanus.txt\", \"macbeth.txt\", \"tamingshrew.txt\",\\\n",
      "       \"measureformeasure.txt\", \"merchantofvenice.txt\", \\\n",
      "       \"midsummersnightdream.txt\", \"titusandronicus.txt\", \\\n",
      "       \"hamlet.txt\", \"twelfthnight.txt\", \"juliuscaesar.txt\"]"
     ],
     "language": "python",
     "metadata": {},
     "outputs": [],
     "prompt_number": 5
    },
    {
     "cell_type": "code",
     "collapsed": false,
     "input": [
      "corpus = [open(p).read() for p in plays]"
     ],
     "language": "python",
     "metadata": {},
     "outputs": [],
     "prompt_number": 7
    },
    {
     "cell_type": "code",
     "collapsed": false,
     "input": [
      "corpus[0][0:100]"
     ],
     "language": "python",
     "metadata": {},
     "outputs": [
      {
       "metadata": {},
       "output_type": "pyout",
       "prompt_number": 8,
       "text": [
        "'\\xef\\xbb\\xbfXXXX\\r\\nOTHELLO, THE MOOR OF VENICE\\r\\n\\r\\nby William Shakespeare\\r\\n\\r\\n\\r\\n\\r\\n\\r\\n\\r\\n\\r\\nPERSONS REPRESENTED:\\r\\n\\r\\n'"
       ]
      }
     ],
     "prompt_number": 8
    },
    {
     "cell_type": "code",
     "collapsed": false,
     "input": [
      "from sklearn.feature_extraction.text import CountVectorizer"
     ],
     "language": "python",
     "metadata": {},
     "outputs": [],
     "prompt_number": 9
    },
    {
     "cell_type": "code",
     "collapsed": false,
     "input": [
      "vectorizer = CountVectorizer(min_df=1, stop_words='english', input='filename')"
     ],
     "language": "python",
     "metadata": {},
     "outputs": [],
     "prompt_number": 10
    },
    {
     "cell_type": "code",
     "collapsed": false,
     "input": [
      "X=vectorizer.fit_transform(plays)"
     ],
     "language": "python",
     "metadata": {},
     "outputs": [],
     "prompt_number": 11
    },
    {
     "cell_type": "code",
     "collapsed": false,
     "input": [
      "X.shape, X"
     ],
     "language": "python",
     "metadata": {},
     "outputs": [
      {
       "metadata": {},
       "output_type": "pyout",
       "prompt_number": 13,
       "text": [
        "((15, 15344), <15x15344 sparse matrix of type '<type 'numpy.int64'>'\n",
        " \twith 48339 stored elements in Compressed Sparse Row format>)"
       ]
      }
     ],
     "prompt_number": 13
    },
    {
     "cell_type": "code",
     "collapsed": false,
     "input": [
      "words=vectorizer.get_feature_names()"
     ],
     "language": "python",
     "metadata": {},
     "outputs": [],
     "prompt_number": 15
    },
    {
     "cell_type": "code",
     "collapsed": false,
     "input": [
      "#http://scikit-learn.org/dev/modules/feature_extraction.html#text-feature-extraction\n",
      "#http://scikit-learn.org/dev/modules/classes.html#text-feature-extraction-ref\n",
      "from sklearn.feature_extraction.text import TfidfVectorizer\n",
      "tfidfvectorizer = TfidfVectorizer(min_df=1, stop_words='english')\n",
      "Xtfidf=tfidfvectorizer.fit_transform(corpus)"
     ],
     "language": "python",
     "metadata": {},
     "outputs": [],
     "prompt_number": 17
    },
    {
     "cell_type": "code",
     "collapsed": false,
     "input": [
      "X[0].toarray()"
     ],
     "language": "python",
     "metadata": {},
     "outputs": [
      {
       "metadata": {},
       "output_type": "pyout",
       "prompt_number": 19,
       "text": [
        "array([[0, 0, 0, ..., 0, 3, 0]])"
       ]
      }
     ],
     "prompt_number": 19
    },
    {
     "cell_type": "code",
     "collapsed": false,
     "input": [
      "Xtfidf[0].toarray(), plays[0]"
     ],
     "language": "python",
     "metadata": {},
     "outputs": [
      {
       "metadata": {},
       "output_type": "pyout",
       "prompt_number": 20,
       "text": [
        "(array([[ 0.        ,  0.        ,  0.        , ...,  0.        ,\n",
        "          0.00322711,  0.        ]]), 'othello.txt')"
       ]
      }
     ],
     "prompt_number": 20
    },
    {
     "cell_type": "code",
     "collapsed": false,
     "input": [
      "wordstfidf=tfidfvectorizer.get_feature_names()"
     ],
     "language": "python",
     "metadata": {},
     "outputs": [],
     "prompt_number": 21
    },
    {
     "cell_type": "code",
     "collapsed": false,
     "input": [
      "set(words) <= set(wordstfidf)"
     ],
     "language": "python",
     "metadata": {},
     "outputs": [
      {
       "metadata": {},
       "output_type": "pyout",
       "prompt_number": 23,
       "text": [
        "True"
       ]
      }
     ],
     "prompt_number": 23
    },
    {
     "cell_type": "code",
     "collapsed": false,
     "input": [
      "from sklearn.cluster import KMeans\n",
      "true_k=4\n",
      "km = KMeans(n_clusters=true_k, init='k-means++', max_iter=100, n_init=1)\n",
      "km.fit(Xtfidf)"
     ],
     "language": "python",
     "metadata": {},
     "outputs": [
      {
       "metadata": {},
       "output_type": "pyout",
       "prompt_number": 27,
       "text": [
        "KMeans(copy_x=True, init='k-means++', max_iter=100, n_clusters=4, n_init=1,\n",
        "    n_jobs=1, precompute_distances=True, random_state=None, tol=0.0001,\n",
        "    verbose=0)"
       ]
      }
     ],
     "prompt_number": 27
    },
    {
     "cell_type": "code",
     "collapsed": false,
     "input": [
      "zip(plays,km.labels_)"
     ],
     "language": "python",
     "metadata": {},
     "outputs": [
      {
       "metadata": {},
       "output_type": "pyout",
       "prompt_number": 28,
       "text": [
        "[('othello.txt', 1),\n",
        " ('asyoulikeit.txt', 3),\n",
        " ('kinglear.txt', 1),\n",
        " ('kingrichard3.txt', 1),\n",
        " ('romeojuliet.txt', 1),\n",
        " ('coriolanus.txt', 2),\n",
        " ('macbeth.txt', 1),\n",
        " ('tamingshrew.txt', 1),\n",
        " ('measureformeasure.txt', 1),\n",
        " ('merchantofvenice.txt', 1),\n",
        " ('midsummersnightdream.txt', 0),\n",
        " ('titusandronicus.txt', 1),\n",
        " ('hamlet.txt', 1),\n",
        " ('twelfthnight.txt', 1),\n",
        " ('juliuscaesar.txt', 2)]"
       ]
      }
     ],
     "prompt_number": 28
    },
    {
     "cell_type": "code",
     "collapsed": false,
     "input": [
      "tfidfvectorizer = TfidfVectorizer(min_df=2, max_df=0.5, stop_words='english')\n",
      "Xtfidf=tfidfvectorizer.fit_transform(corpus)"
     ],
     "language": "python",
     "metadata": {},
     "outputs": [],
     "prompt_number": 38
    },
    {
     "cell_type": "code",
     "collapsed": false,
     "input": [
      "true_k=4\n",
      "km = KMeans(n_clusters=true_k, init='k-means++', max_iter=100, n_init=1)\n",
      "km.fit(Xtfidf)\n",
      "zip(plays,km.labels_)"
     ],
     "language": "python",
     "metadata": {},
     "outputs": [
      {
       "metadata": {},
       "output_type": "pyout",
       "prompt_number": 39,
       "text": [
        "[('othello.txt', 1),\n",
        " ('asyoulikeit.txt', 2),\n",
        " ('kinglear.txt', 3),\n",
        " ('kingrichard3.txt', 3),\n",
        " ('romeojuliet.txt', 2),\n",
        " ('coriolanus.txt', 0),\n",
        " ('macbeth.txt', 1),\n",
        " ('tamingshrew.txt', 1),\n",
        " ('measureformeasure.txt', 1),\n",
        " ('merchantofvenice.txt', 1),\n",
        " ('midsummersnightdream.txt', 0),\n",
        " ('titusandronicus.txt', 0),\n",
        " ('hamlet.txt', 1),\n",
        " ('twelfthnight.txt', 1),\n",
        " ('juliuscaesar.txt', 0)]"
       ]
      }
     ],
     "prompt_number": 39
    },
    {
     "cell_type": "code",
     "collapsed": false,
     "input": [
      "bitfidfvectorizer = TfidfVectorizer(min_df=2, max_df=0.5, ngram_range=(1,2), stop_words='english')\n",
      "biXtfidf=bitfidfvectorizer.fit_transform(corpus)\n",
      "true_k=4\n",
      "km = KMeans(n_clusters=true_k, init='k-means++', max_iter=100, n_init=1)\n",
      "km.fit(biXtfidf)\n",
      "zip(plays,km.labels_)"
     ],
     "language": "python",
     "metadata": {},
     "outputs": [
      {
       "metadata": {},
       "output_type": "pyout",
       "prompt_number": 40,
       "text": [
        "[('othello.txt', 0),\n",
        " ('asyoulikeit.txt', 1),\n",
        " ('kinglear.txt', 3),\n",
        " ('kingrichard3.txt', 3),\n",
        " ('romeojuliet.txt', 1),\n",
        " ('coriolanus.txt', 2),\n",
        " ('macbeth.txt', 0),\n",
        " ('tamingshrew.txt', 0),\n",
        " ('measureformeasure.txt', 1),\n",
        " ('merchantofvenice.txt', 0),\n",
        " ('midsummersnightdream.txt', 2),\n",
        " ('titusandronicus.txt', 2),\n",
        " ('hamlet.txt', 0),\n",
        " ('twelfthnight.txt', 0),\n",
        " ('juliuscaesar.txt', 2)]"
       ]
      }
     ],
     "prompt_number": 40
    },
    {
     "cell_type": "code",
     "collapsed": false,
     "input": [
      "tfidfvectorizer.get_feature_names()[0:50]"
     ],
     "language": "python",
     "metadata": {},
     "outputs": [
      {
       "metadata": {},
       "output_type": "pyout",
       "prompt_number": 41,
       "text": [
        "[u'1594',\n",
        " u'1606',\n",
        " u'abandon',\n",
        " u'abandoned',\n",
        " u'abate',\n",
        " u'abated',\n",
        " u'abatement',\n",
        " u'abed',\n",
        " u'abhor',\n",
        " u'abhorr',\n",
        " u'abhorred',\n",
        " u'abhors',\n",
        " u'abide',\n",
        " u'abides',\n",
        " u'abilities',\n",
        " u'ability',\n",
        " u'abject',\n",
        " u'abjure',\n",
        " u'aboard',\n",
        " u'abode',\n",
        " u'abominable',\n",
        " u'abound',\n",
        " u'abram',\n",
        " u'abridgment',\n",
        " u'abroach',\n",
        " u'absolute',\n",
        " u'abstinence',\n",
        " u'abundance',\n",
        " u'abused',\n",
        " u'abuses',\n",
        " u'accents',\n",
        " u'accept',\n",
        " u'acceptance',\n",
        " u'accident',\n",
        " u'accidental',\n",
        " u'accidents',\n",
        " u'accompanied',\n",
        " u'accompany',\n",
        " u'accomplish',\n",
        " u'accomplished',\n",
        " u'accord',\n",
        " u'accordingly',\n",
        " u'accountant',\n",
        " u'accounted',\n",
        " u'accoutred',\n",
        " u'accoutrements',\n",
        " u'accurs',\n",
        " u'accursed',\n",
        " u'accurst',\n",
        " u'accus']"
       ]
      }
     ],
     "prompt_number": 41
    },
    {
     "cell_type": "code",
     "collapsed": false,
     "input": [
      "from sklearn.decomposition import NMF"
     ],
     "language": "python",
     "metadata": {},
     "outputs": [],
     "prompt_number": 42
    },
    {
     "cell_type": "code",
     "collapsed": false,
     "input": [
      "n_topics=4\n",
      "nmf = NMF(n_components=n_topics, random_state=1).fit(Xtfidf)\n"
     ],
     "language": "python",
     "metadata": {},
     "outputs": [],
     "prompt_number": 43
    },
    {
     "cell_type": "code",
     "collapsed": false,
     "input": [
      "Xtfidf[:,0]"
     ],
     "language": "python",
     "metadata": {},
     "outputs": [
      {
       "metadata": {},
       "output_type": "pyout",
       "prompt_number": 49,
       "text": [
        "<15x1 sparse matrix of type '<type 'numpy.float64'>'\n",
        "\twith 2 stored elements in Compressed Sparse Row format>"
       ]
      }
     ],
     "prompt_number": 49
    },
    {
     "cell_type": "code",
     "collapsed": false,
     "input": [
      "n_top_words = 40\n",
      "feature_names = tfidfvectorizer.get_feature_names()\n",
      "for topic_idx, topic in enumerate(nmf.components_):\n",
      "    print(\"Topic #%d:\" % topic_idx)\n",
      "    topic_idxs=topic.argsort()[:-n_top_words - 1:-1]\n",
      "    print(\" \".join([feature_names[i] for i in topic_idxs]))\n",
      "    inplays=[]\n",
      "    #print \"tidx\", topic_idxs\n",
      "    #this does not work i dont understand NMF\n",
      "    for i in topic_idxs:\n",
      "        #print Xtfidf[:,i].toarray().T[0]\n",
      "        alike = Xtfidf[:,i].toarray().T[0]\n",
      "        for j,p in enumerate(alike):\n",
      "            if p>0:\n",
      "                inplays.append(j)\n",
      "    inplays=set(inplays)\n",
      "    print(\" \".join([plays[j] for j in inplays]))\n",
      "    print \"\""
     ],
     "language": "python",
     "metadata": {},
     "outputs": [
      {
       "output_type": "stream",
       "stream": "stdout",
       "text": [
        "Topic #0:\n",
        "brutus coriolanus rome titus lucius citizen antony demetrius marcus tribunes sons romans emperor senators caius capitol helena senator goths pyramus senate patricians portia publius fairy today quintus tribune honor cato tent conspirator conspirators moor thisby alarum pr ythee countrymen claudio\n",
        "othello.txt asyoulikeit.txt kinglear.txt kingrichard3.txt romeojuliet.txt coriolanus.txt macbeth.txt tamingshrew.txt measureformeasure.txt merchantofvenice.txt midsummersnightdream.txt titusandronicus.txt hamlet.txt twelfthnight.txt juliuscaesar.txt\n",
        "\n",
        "Topic #1:\n",
        "gloucester kent richard edward gent anne corn cor duchess france rivers tom tower burgundy earl majesty castle citizen ghost henry england george stocks ld steward tent sisters sons keeper hovel thereof princes witch dukes princely pow murther capt knight doctor\n",
        "othello.txt asyoulikeit.txt kinglear.txt kingrichard3.txt romeojuliet.txt coriolanus.txt macbeth.txt tamingshrew.txt measureformeasure.txt merchantofvenice.txt midsummersnightdream.txt titusandronicus.txt hamlet.txt twelfthnight.txt juliuscaesar.txt\n",
        "\n",
        "Topic #2:\n",
        "portia gratiano moor antonio laertes bianca venice andrew witch handkerchief petruchio maria lieutenant murtherer castle ghost jew doctor england ythee pr corin frederick lucentio forest players baptista willow sings scotland norway majesty le adam shepherd ducats courtier honor senator knocking\n",
        "othello.txt asyoulikeit.txt kinglear.txt kingrichard3.txt romeojuliet.txt coriolanus.txt macbeth.txt tamingshrew.txt measureformeasure.txt merchantofvenice.txt midsummersnightdream.txt titusandronicus.txt hamlet.txt twelfthnight.txt juliuscaesar.txt\n",
        "\n",
        "Topic #3:\n",
        "friar angelo juliet lucio ben escalus pompey claudio paris par peter verona county elbow cell mantua overdone banished bawd demetrius john vault flower helena musicians woful deputy balthasar tomb church torch churchyard woes houses pyramus bite cords corse monument banishment\n",
        "othello.txt asyoulikeit.txt kinglear.txt kingrichard3.txt romeojuliet.txt coriolanus.txt macbeth.txt tamingshrew.txt measureformeasure.txt merchantofvenice.txt midsummersnightdream.txt titusandronicus.txt hamlet.txt twelfthnight.txt juliuscaesar.txt"
       ]
      },
      {
       "output_type": "stream",
       "stream": "stdout",
       "text": [
        "\n",
        "\n"
       ]
      }
     ],
     "prompt_number": 72
    },
    {
     "cell_type": "code",
     "collapsed": false,
     "input": [],
     "language": "python",
     "metadata": {},
     "outputs": []
    }
   ],
   "metadata": {}
  }
 ]
}